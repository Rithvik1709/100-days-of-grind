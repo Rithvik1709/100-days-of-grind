{
 "cells": [
  {
   "cell_type": "markdown",
   "metadata": {},
   "source": [
    "# Working with NUMPY \n",
    "at first we need to import the NUMPY module"
   ]
  },
  {
   "cell_type": "code",
   "execution_count": 5,
   "metadata": {},
   "outputs": [],
   "source": [
    "\n",
    "import numpy as np"
   ]
  },
  {
   "cell_type": "code",
   "execution_count": 4,
   "metadata": {},
   "outputs": [
    {
     "data": {
      "text/plain": [
       "array([0, 1, 2, 3, 4, 5, 6, 7, 8, 9])"
      ]
     },
     "execution_count": 4,
     "metadata": {},
     "output_type": "execute_result"
    }
   ],
   "source": [
    "arr_ran = np.arange(0,10,1)\n",
    "arr_ran"
   ]
  },
  {
   "cell_type": "code",
   "execution_count": 6,
   "metadata": {},
   "outputs": [
    {
     "data": {
      "text/plain": [
       "numpy.ndarray"
      ]
     },
     "execution_count": 6,
     "metadata": {},
     "output_type": "execute_result"
    }
   ],
   "source": [
    "type(arr_ran)"
   ]
  },
  {
   "cell_type": "markdown",
   "metadata": {},
   "source": [
    "# Creating 2-dimensional array\n",
    "2-D array can be created using functions like \n",
    "zeros(),full(),"
   ]
  },
  {
   "cell_type": "code",
   "execution_count": 7,
   "metadata": {},
   "outputs": [
    {
     "name": "stdout",
     "output_type": "stream",
     "text": [
      "[[ 1  2  3  4]\n",
      " [ 5  6  7  8]\n",
      " [ 9 10 11 12]]\n",
      "[[ 1  2  3]\n",
      " [ 4  5  6]\n",
      " [ 7  8  9]\n",
      " [10 11 12]]\n"
     ]
    }
   ],
   "source": [
    "\n",
    "list_1 = [1, 2, 3, 4] \n",
    "list_2 = [5, 6, 7, 8] \n",
    "list_3 = [9, 10, 11, 12] \n",
    "print(np.array([list_1, list_2, list_3])) \n",
    "print(np.empty([4, 3], dtype=int))\n"
   ]
  },
  {
   "cell_type": "code",
   "execution_count": 10,
   "metadata": {},
   "outputs": [
    {
     "name": "stdout",
     "output_type": "stream",
     "text": [
      "[1 2 3 4 5 6 7 8 9]\n",
      "[ 1.   5.5 10. ]\n",
      "[0 0 0 0 0]\n",
      "[1. 1. 1. 1. 1. 1. 1. 1. 1.]\n",
      "[0.4021572  0.96346805 0.08762521 0.2298429  0.03991627]\n",
      "[4 4 4 3 3 1 3 2 3 3]\n"
     ]
    }
   ],
   "source": [
    "#Create array using functions \n",
    "print(np.arange(1, 10))\n",
    "\n",
    "print(np.linspace(1, 10, 3)) \n",
    "\n",
    "print(np.zeros(5, dtype=int)) \n",
    "\n",
    "print(np.ones(9, dtype=float)) \n",
    "\n",
    "print(np.random.rand(5)) \n",
    "\n",
    "print(np.random.randint(5, size=10)) \n"
   ]
  },
  {
   "cell_type": "code",
   "execution_count": 11,
   "metadata": {},
   "outputs": [
    {
     "name": "stdout",
     "output_type": "stream",
     "text": [
      "[[0 0 0]\n",
      " [0 0 0]\n",
      " [0 0 0]\n",
      " [0 0 0]]\n",
      "[[1 1 1]\n",
      " [1 1 1]\n",
      " [1 1 1]\n",
      " [1 1 1]]\n",
      "[[67 67]\n",
      " [67 67]]\n",
      "[[1. 0. 0. 0.]\n",
      " [0. 1. 0. 0.]\n",
      " [0. 0. 1. 0.]\n",
      " [0. 0. 0. 1.]]\n"
     ]
    }
   ],
   "source": [
    "#2d array creations \n",
    "print(np.zeros([4, 3], dtype = np.int32)) \n",
    "\n",
    "print(np.ones([4, 3], dtype = np.int32)) \n",
    "\n",
    "print(np.full([2, 2], 67, dtype = int)) \n",
    "\n",
    "print(np.eye(4))\n"
   ]
  },
  {
   "cell_type": "code",
   "execution_count": 12,
   "metadata": {},
   "outputs": [
    {
     "name": "stdout",
     "output_type": "stream",
     "text": [
      "Size: 4\n",
      "len: 4\n",
      "Shape: (4,)\n",
      "Datatype: int64\n",
      "[1. 2. 3. 4.]\n",
      "Datatype: float64\n",
      "\n",
      "List: [1.0, 2.0, 3.0, 4.0]\n",
      "<class 'list'>\n"
     ]
    }
   ],
   "source": [
    "arr = np.asarray([1, 2, 3, 4]) \n",
    "# check size of the array \n",
    "print(\"Size:\", arr.size) \n",
    "\n",
    "# check len of the array \n",
    "print(\"len:\", len(arr)) \n",
    "\n",
    "# check shape of the array \n",
    "print(\"Shape:\", arr.shape) \n",
    "\n",
    "# check dtype of the array elements \n",
    "print(\"Datatype:\", arr.dtype) \n",
    "\n",
    "# change the dtype to 'float64' \n",
    "arr = arr.astype('float64') \n",
    "print(arr) \n",
    "print(\"Datatype:\", arr.dtype) \n",
    "\n",
    "# convert array to list \n",
    "lis = arr.tolist() \n",
    "print(\"\\nList:\", lis) \n",
    "print(type(lis))\n"
   ]
  },
  {
   "cell_type": "code",
   "execution_count": 13,
   "metadata": {},
   "outputs": [
    {
     "name": "stdout",
     "output_type": "stream",
     "text": [
      "Size: 12\n",
      "Length: 3\n",
      "Shape: (3, 4)\n",
      "Datatype: int64\n",
      "[[ 1.  2.  3.  4.]\n",
      " [ 5.  6.  7.  8.]\n",
      " [ 9. 10. 11. 12.]]\n",
      "float64\n",
      "\n",
      "List: [[1.0, 2.0, 3.0, 4.0], [5.0, 6.0, 7.0, 8.0], [9.0, 10.0, 11.0, 12.0]]\n",
      "<class 'list'>\n"
     ]
    }
   ],
   "source": [
    "# Two dimensional array \n",
    "\n",
    "list_1 = [1, 2, 3, 4] \n",
    "list_2 = [5, 6, 7, 8] \n",
    "list_3 = [9, 10, 11, 12] \n",
    "arr = np.array([list_1, list_2, list_3]) \n",
    "\n",
    "# check size of the array \n",
    "print(\"Size:\", arr.size) \n",
    "\n",
    "# check length of the array \n",
    "print(\"Length:\", len(arr)) \n",
    "\n",
    "# check shape of the array \n",
    "print(\"Shape:\", arr.shape) \n",
    "\n",
    "# check dtype of the array elements \n",
    "print(\"Datatype:\", arr.dtype) \n",
    "\n",
    "# change the dtype to 'float64' \n",
    "arr = arr.astype('float64') \n",
    "print(arr) \n",
    "print(arr.dtype) \n",
    "\n",
    "# convert array to list \n",
    "lis = arr.tolist() \n",
    "print(\"\\nList:\", lis) \n",
    "print(type(lis))\n"
   ]
  },
  {
   "cell_type": "code",
   "execution_count": 14,
   "metadata": {},
   "outputs": [
    {
     "name": "stdout",
     "output_type": "stream",
     "text": [
      "[0 1 2 3 4]\n"
     ]
    }
   ],
   "source": [
    "#saving and loading from file \n",
    "\n",
    "# the array is saved in the file data.npy \n",
    "np.save(\"data\", np.arange(5)) \n",
    "\n",
    "# the array is loaded into b \n",
    "print(np.load(\"data.npy\"))"
   ]
  },
  {
   "cell_type": "code",
   "execution_count": 16,
   "metadata": {},
   "outputs": [
    {
     "name": "stdout",
     "output_type": "stream",
     "text": [
      "Array before sorting [12 15 10  1]\n",
      "Array after sorting [ 1 10 12 15]\n"
     ]
    }
   ],
   "source": [
    "# sorting a one dimensional \n",
    "a = np.array([12, 15, 10, 1]) \n",
    "print(\"Array before sorting\",a) \n",
    "a.sort() \n",
    "print(\"Array after sorting\",a)\n"
   ]
  },
  {
   "cell_type": "code",
   "execution_count": 17,
   "metadata": {},
   "outputs": [
    {
     "name": "stdout",
     "output_type": "stream",
     "text": [
      "Original Array: [[ 1.  2.  3.  4.]\n",
      " [ 5.  6.  7.  8.]\n",
      " [ 9. 10. 11. 12.]]\n",
      "Array after appending: [ 1.  2.  3.  4.  5.  6.  7.  8.  9. 10. 11. 12.  7.]\n"
     ]
    }
   ],
   "source": [
    "# Adding the values at the end \n",
    "# of a numpy array \n",
    "print(\"Original Array:\", arr) \n",
    "\n",
    "# appending to the array \n",
    "arr = np.append(arr, [7]) \n",
    "print(\"Array after appending:\", arr)\n"
   ]
  },
  {
   "cell_type": "code",
   "execution_count": 19,
   "metadata": {},
   "outputs": [
    {
     "name": "stdout",
     "output_type": "stream",
     "text": [
      "1D arr: [1 2 3 4]\n",
      "Shape: (4,)\n",
      "\n",
      "Array after insertion: [1 9 2 3 4]\n",
      "Shape: (5,)\n"
     ]
    }
   ],
   "source": [
    "#inserting element to array\n",
    "arr = np.asarray([1, 2, 3, 4]) \n",
    "\n",
    "print(\"1D arr:\", arr) \n",
    "print(\"Shape:\", arr.shape) \n",
    "\n",
    "# Inserting value 9 at index 1 \n",
    "a = np.insert(arr, 1, 9) \n",
    "print(\"\\nArray after insertion:\", a) \n",
    "print(\"Shape:\", a.shape)\n"
   ]
  },
  {
   "cell_type": "code",
   "execution_count": 20,
   "metadata": {},
   "outputs": [
    {
     "name": "stdout",
     "output_type": "stream",
     "text": [
      "Original arr: [1 2 3 4]\n",
      "Shape :  (4,)\n",
      "\n",
      "deleteing the value at index 2 from array:\n",
      " [1 2 4]\n",
      "Shape :  (3,)\n"
     ]
    }
   ],
   "source": [
    "#removing elements\n",
    "print(\"Original arr:\", arr) \n",
    "print(\"Shape : \", arr.shape) \n",
    "\n",
    "# deletion from 1D array \n",
    "object = 2\n",
    "a = np.delete(arr, object) \n",
    "print(\"\\ndeleteing the value at index {} from array:\\n {}\".format(object,a)) \n",
    "print(\"Shape : \", a.shape)\n"
   ]
  },
  {
   "cell_type": "code",
   "execution_count": 21,
   "metadata": {},
   "outputs": [
    {
     "name": "stdout",
     "output_type": "stream",
     "text": [
      "Array: [ 1  2  3  4  5  6  7  8  9 10 11 12 13 14 15 16]\n",
      "First Reshaped Array:\n",
      "[[ 1  2  3  4]\n",
      " [ 5  6  7  8]\n",
      " [ 9 10 11 12]\n",
      " [13 14 15 16]]\n",
      "\n",
      "Second Reshaped Array:\n",
      "[[ 1  2  3  4  5  6  7  8]\n",
      " [ 9 10 11 12 13 14 15 16]]\n"
     ]
    }
   ],
   "source": [
    "\n",
    "# Reshaping Arrays\n",
    "array = np.array([1, 2, 3, 4, 5, 6, 7, 8, 9, 10, 11, 12, 13, 14, 15, 16]) \n",
    "\n",
    "print(\"Array: \" + str(array)) \n",
    "\n",
    "# converting it to 2-D from 1-D array \n",
    "reshaped1 = array.reshape((4, array.size//4)) \n",
    "\n",
    "print(\"First Reshaped Array:\") \n",
    "print(reshaped1) \n",
    "\n",
    "reshaped2 = np.reshape(array, (2, 8)) \n",
    "\n",
    "print(\"\\nSecond Reshaped Array:\") \n",
    "print(reshaped2)\n"
   ]
  },
  {
   "cell_type": "code",
   "execution_count": 22,
   "metadata": {},
   "outputs": [
    {
     "name": "stdout",
     "output_type": "stream",
     "text": [
      "[[2 4]\n",
      " [6 8]\n",
      " [3 5]\n",
      " [7 9]]\n",
      "\n",
      " [[2 4 3 5]\n",
      " [6 8 7 9]]\n",
      "\n",
      " [2 4 6 8 3 5 7 9]\n",
      "[[[2 4]\n",
      "  [3 5]]\n",
      "\n",
      " [[6 8]\n",
      "  [7 9]]]\n"
     ]
    }
   ],
   "source": [
    "#combining arrays\n",
    "arr1 = np.array([[2, 4], [6, 8]]) \n",
    "arr2 = np.array([[3, 5], [7, 9]]) \n",
    "\n",
    "# combining on axis 0 \n",
    "gfg = np.concatenate((arr1, arr2), axis = 0) \n",
    "print(gfg) \n",
    "\n",
    "# combining on axis 1 \n",
    "gfg = np.concatenate((arr1, arr2), axis = 1) \n",
    "print(\"\\n\", gfg) \n",
    "\n",
    "# combining on axis None \n",
    "gfg = np.concatenate((arr1, arr2), axis = None) \n",
    "print(\"\\n\", gfg) \n",
    "\n",
    "# stacking two arrays on one another \n",
    "print(np.stack((arr1, arr2), axis=1))\n"
   ]
  },
  {
   "cell_type": "code",
   "execution_count": 23,
   "metadata": {},
   "outputs": [
    {
     "name": "stdout",
     "output_type": "stream",
     "text": [
      "[[0 1 2]\n",
      " [3 4 5]\n",
      " [6 7 8]]\n",
      "Splitted array in horizontal form:\n",
      " [array([[0],\n",
      "       [3],\n",
      "       [6]]), array([[1],\n",
      "       [4],\n",
      "       [7]]), array([[2],\n",
      "       [5],\n",
      "       [8]])]\n",
      "\n",
      "Splitted array in vertical form:\n",
      " [array([[0, 1, 2]]), array([[3, 4, 5]]), array([[6, 7, 8]])]\n"
     ]
    }
   ],
   "source": [
    "#spliting arrays \n",
    "# Making of a 3x3 array \n",
    "a = np.arange(9).reshape(3, 3) \n",
    "print(a) \n",
    "\n",
    "# Horizontal splitting of array 'a' \n",
    "# using 'split' with axis parameter = 1. \n",
    "print(\"Splitted array in horizontal form:\\n\", np.split(a, 3, 1)) \n",
    "\n",
    "# Vertical splitting of array 'a' \n",
    "# using 'split' with axis parameter = 0. \n",
    "print(\"\\nSplitted array in vertical form:\\n\", np.split(a, 3, 0))\n"
   ]
  },
  {
   "cell_type": "code",
   "execution_count": 24,
   "metadata": {},
   "outputs": [
    {
     "name": "stdout",
     "output_type": "stream",
     "text": [
      "[[0 1 2]\n",
      " [3 4 5]\n",
      " [6 7 8]]\n",
      "Splitted array in horizontally to form: [array([[0],\n",
      "       [3],\n",
      "       [6]]), array([[1],\n",
      "       [4],\n",
      "       [7]]), array([[2],\n",
      "       [5],\n",
      "       [8]])]\n"
     ]
    }
   ],
   "source": [
    "# Horizontal splitting of array \n",
    "# 'a' using np.hsplit(). \n",
    "print(a) \n",
    "print(\"Splitted array in horizontally to form:\", np.hsplit(a, 3))\n"
   ]
  },
  {
   "cell_type": "code",
   "execution_count": 25,
   "metadata": {},
   "outputs": [
    {
     "name": "stdout",
     "output_type": "stream",
     "text": [
      "Splitted array in vertically to form: [array([[0, 1, 2]]), array([[3, 4, 5]]), array([[6, 7, 8]])]\n"
     ]
    }
   ],
   "source": [
    "# Vertical splitting of array 'a' \n",
    "# using np.vsplit(). \n",
    "print(\"Splitted array in vertically to form:\", np.vsplit(a, 3))\n"
   ]
  },
  {
   "cell_type": "code",
   "execution_count": 26,
   "metadata": {},
   "outputs": [
    {
     "name": "stdout",
     "output_type": "stream",
     "text": [
      "[1 2 3 4]\n",
      "a[-2:7:1] =  [3 4]\n",
      "a[1:] =  [2 3 4]\n"
     ]
    }
   ],
   "source": [
    "#slicing of array\n",
    "print(arr) \n",
    "\n",
    "# a[start:stop:step] \n",
    "print(\"a[-2:7:1] = \",arr[-2:7:1]) \n",
    "\n",
    "print(\"a[1:] = \",arr[1:])\n"
   ]
  },
  {
   "cell_type": "code",
   "execution_count": 27,
   "metadata": {},
   "outputs": [
    {
     "name": "stdout",
     "output_type": "stream",
     "text": [
      "[1 3 6]\n",
      "[ 80 100]\n"
     ]
    }
   ],
   "source": [
    "# Integer Indexing \n",
    "a = np.array([[1 ,2 ],[3 ,4 ],[5 ,6 ]]) \n",
    "print(a[[0 ,1 ,2 ],[0 ,0 ,1]]) \n",
    "\n",
    "# Boolean Indexing \n",
    "a = np.array([10, 40, 80, 50, 100]) \n",
    "print(a[a>50])\n"
   ]
  },
  {
   "cell_type": "code",
   "execution_count": 28,
   "metadata": {},
   "outputs": [
    {
     "name": "stdout",
     "output_type": "stream",
     "text": [
      "Normal Assignment copy\n",
      "id of arr: 4405404528\n",
      "id of nc: 4405404528\n",
      "original array: [12  2  3  4]\n",
      "assigned array: [12  2  3  4]\n"
     ]
    }
   ],
   "source": [
    "# Copying Numpy array with normal assignment \n",
    "nc = arr \n",
    "\n",
    "# both arr and nc have same id \n",
    "print(\"Normal Assignment copy\") \n",
    "print(\"id of arr:\", id(arr)) \n",
    "print(\"id of nc:\", id(nc)) \n",
    "\n",
    "# updating nc \n",
    "nc[0]= 12\n",
    "\n",
    "# printing the values \n",
    "print(\"original array:\", arr) \n",
    "print(\"assigned array:\", nc)\n"
   ]
  },
  {
   "cell_type": "code",
   "execution_count": null,
   "metadata": {},
   "outputs": [],
   "source": [
    "# Creating a deep copy of NumPy \n",
    "# array creating copy of array \n",
    "c = arr.copy() \n",
    "\t\n",
    "# both arr and c have different id \n",
    "print(\"id of arr:\", id(arr)) \n",
    "print(\"id of c:\", id(c)) \n",
    "\t\n",
    "# changing original array \n",
    "# this will not effect copy \n",
    "arr[0] = 12\n",
    "\t\n",
    "# printing array and copy \n",
    "print(\"original array:\", arr) \n",
    "print(\"copy:\", c)"
   ]
  },
  {
   "cell_type": "code",
   "execution_count": 29,
   "metadata": {},
   "outputs": [
    {
     "name": "stdout",
     "output_type": "stream",
     "text": [
      "Addition: [  7  77  23 130]\n",
      "Subtraction: [ 3 67  3 70]\n",
      "Multiplication: [  10  360  130 3000]\n",
      "Division: [ 2.5        14.4         1.3         3.33333333]\n",
      "Mod: [ 1  2  3 10]\n",
      "Remainder: [ 1  2  3 10]\n",
      "Power: [                 25          1934917632        137858491849\n",
      " 1152921504606846976]\n",
      "Exponentiation: [7.38905610e+00 1.48413159e+02 2.20264658e+04 1.06864746e+13]\n"
     ]
    }
   ],
   "source": [
    "# Defining both the matrices \n",
    "a = np.array([5, 72, 13, 100]) \n",
    "b = np.array([2, 5, 10, 30]) \n",
    "\n",
    "# Performing addition using numpy function \n",
    "print(\"Addition:\", np.add(a, b)) \n",
    "\n",
    "# Performing subtraction using numpy function \n",
    "print(\"Subtraction:\", np.subtract(a, b)) \n",
    "\n",
    "# Performing multiplication using numpy function \n",
    "print(\"Multiplication:\", np.multiply(a, b)) \n",
    "\n",
    "# Performing division using numpy functions \n",
    "print(\"Division:\", np.divide(a, b)) \n",
    "\n",
    "# Performing mod on two matrices \n",
    "print(\"Mod:\", np.mod(a, b)) \n",
    "\n",
    "#Performing remainder on two matrices \n",
    "print(\"Remainder:\", np.remainder(a,b)) \n",
    "\n",
    "# Performing power of two matrices \n",
    "print(\"Power:\", np.power(a, b)) \n",
    "\n",
    "# Performing Exponentiation \n",
    "print(\"Exponentiation:\", np.exp(b))"
   ]
  },
  {
   "cell_type": "code",
   "execution_count": 30,
   "metadata": {},
   "outputs": [
    {
     "name": "stdout",
     "output_type": "stream",
     "text": [
      "True\n"
     ]
    }
   ],
   "source": [
    "an_array = np.array([[1, 2], [3, 4]]) \n",
    "another_array = np.array([[1, 2], [3, 4]]) \n",
    "\n",
    "comparison = an_array == another_array \n",
    "equal_arrays = comparison.all() \n",
    "\n",
    "print(equal_arrays)\n"
   ]
  },
  {
   "cell_type": "code",
   "execution_count": 32,
   "metadata": {},
   "outputs": [
    {
     "name": "stdout",
     "output_type": "stream",
     "text": [
      "Square-root: [0.70710678 1.22474487 1.58113883 1.87082869 2.12132034 3.17804972]\n",
      "Log Value:  [-0.69314718  0.40546511  0.91629073  1.25276297  1.5040774   2.31253542]\n",
      "Absolute Value: [ 0.5  1.5  2.5  3.5  4.5 10.1]\n",
      "Sine values: [ 0.47942554  0.99749499  0.59847214 -0.35078323 -0.97753012 -0.62507065]\n",
      "Ceil values: [ 1.  2.  3.  4.  5. 11.]\n",
      "Floor Values: [ 0.  1.  2.  3.  4. 10.]\n",
      "Rounded values: [ 0.  2.  2.  4.  4. 10.]\n"
     ]
    }
   ],
   "source": [
    "arr = np.array([.5, 1.5, 2.5, 3.5, 4.5, 10.1]) \n",
    "\n",
    "# applying sqrt() method \n",
    "print(\"Square-root:\", np.sqrt(arr)) \n",
    "\n",
    "# applying log() method \n",
    "print(\"Log Value: \", np.log(arr)) \n",
    "\n",
    "# applying absolute() method \n",
    "print(\"Absolute Value:\", np.absolute(arr)) \n",
    "\n",
    "# applying sin() method \n",
    "print(\"Sine values:\", np.sin(arr)) \n",
    "\n",
    "# applying ceil() method \n",
    "print(\"Ceil values:\", np.ceil(arr)) \n",
    "\n",
    "# applying floor() method \n",
    "print(\"Floor Values:\", np.floor(arr)) \n",
    "\n",
    "# applying round_() method \n",
    "print (\"Rounded values:\", np.round(arr))\n"
   ]
  },
  {
   "cell_type": "code",
   "execution_count": 33,
   "metadata": {},
   "outputs": [
    {
     "name": "stdout",
     "output_type": "stream",
     "text": [
      "mean of arr: 12.8\n",
      "median of arr: 7.0\n",
      "Sum of arr(uint8): 64\n",
      "Sum of arr(float32): 64.0\n",
      "maximum element: 34\n",
      "minimum element: 1\n",
      "var of arr: 158.16\n",
      "var of arr(float32): 158.16\n",
      "std of arr: 12.576167937809991\n",
      "More precision with float32 12.576168\n"
     ]
    }
   ],
   "source": [
    "# 1D array \n",
    "arr = [20, 2, 7, 1, 34] \n",
    "\n",
    "# mean \n",
    "print(\"mean of arr:\", np.mean(arr)) \n",
    "\n",
    "# median \n",
    "print(\"median of arr:\", np.median(arr)) \n",
    "\n",
    "# sum \n",
    "print(\"Sum of arr(uint8):\", np.sum(arr, dtype = np.uint8)) \n",
    "print(\"Sum of arr(float32):\", np.sum(arr, dtype = np.float32)) \n",
    "\n",
    "# min and max \n",
    "print(\"maximum element:\", np.max(arr)) \n",
    "print(\"minimum element:\", np.min(arr)) \n",
    "\n",
    "# var \n",
    "print(\"var of arr:\", np.var(arr)) \n",
    "print(\"var of arr(float32):\", np.var(arr, dtype = np.float32)) \n",
    "\n",
    "# standard deviation \n",
    "print(\"std of arr:\", np.std(arr)) \n",
    "print (\"More precision with float32\", np.std(arr, dtype = np.float32))\n"
   ]
  }
 ],
 "metadata": {
  "kernelspec": {
   "display_name": "Python 3",
   "language": "python",
   "name": "python3"
  },
  "language_info": {
   "codemirror_mode": {
    "name": "ipython",
    "version": 3
   },
   "file_extension": ".py",
   "mimetype": "text/x-python",
   "name": "python",
   "nbconvert_exporter": "python",
   "pygments_lexer": "ipython3",
   "version": "3.12.3"
  }
 },
 "nbformat": 4,
 "nbformat_minor": 2
}
