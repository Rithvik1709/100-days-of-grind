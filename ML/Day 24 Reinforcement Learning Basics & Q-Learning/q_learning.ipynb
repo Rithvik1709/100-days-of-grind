{
 "cells": [
  {
   "cell_type": "code",
   "execution_count": 1,
   "id": "5f29dbec",
   "metadata": {},
   "outputs": [],
   "source": [
    "import numpy as np\n",
    "import random"
   ]
  },
  {
   "cell_type": "code",
   "execution_count": 3,
   "id": "81e8b040",
   "metadata": {},
   "outputs": [],
   "source": [
    "# Create a simple 4x4 GridWorld\n",
    "grid_size = 4\n",
    "state_space = grid_size * grid_size\n",
    "action_space = 4  # up, down, left, right\n",
    "# Define actions: 0-up, 1-down, 2-left, 3-right\n",
    "actions = ['↑', '↓', '←', '→']"
   ]
  },
  {
   "cell_type": "code",
   "execution_count": 5,
   "id": "55f33e1b",
   "metadata": {},
   "outputs": [
    {
     "name": "stdout",
     "output_type": "stream",
     "text": [
      "\n",
      "Learned Policy:\n",
      " ↓ \t ↓ \t → \t ↓ \t\n",
      " → \t ↓ \t → \t ↓ \t\n",
      " → \t ↓ \t → \t ↓ \t\n",
      " → \t → \t → \t G \t\n"
     ]
    }
   ],
   "source": [
    "# Rewards and terminal state\n",
    "goal_state = 15  # bottom-right corner\n",
    "rewards = np.full(state_space, -1)\n",
    "rewards[goal_state] = 10\n",
    "\n",
    "# Q-table initialization\n",
    "Q = np.zeros((state_space, action_space))\n",
    "\n",
    "# Learning parameters\n",
    "alpha = 0.1     # Learning rate\n",
    "gamma = 0.9     # Discount factor\n",
    "epsilon = 0.2   # Exploration rate\n",
    "episodes = 500\n",
    "\n",
    "def get_next_state(state, action):\n",
    "    row, col = divmod(state, grid_size)\n",
    "    if action == 0 and row > 0: row -= 1\n",
    "    elif action == 1 and row < grid_size - 1: row += 1\n",
    "    elif action == 2 and col > 0: col -= 1\n",
    "    elif action == 3 and col < grid_size - 1: col += 1\n",
    "    return row * grid_size + col\n",
    "\n",
    "# Training \n",
    "for ep in range(episodes):\n",
    "    state = random.randint(0, state_space - 2) \n",
    "    while state != goal_state:\n",
    "        if random.uniform(0, 1) < epsilon:\n",
    "            action = random.randint(0, action_space - 1)\n",
    "        else:\n",
    "            action = np.argmax(Q[state])\n",
    "        next_state = get_next_state(state, action)\n",
    "        reward = rewards[next_state]\n",
    "        Q[state, action] = Q[state, action] + alpha * (reward + gamma * np.max(Q[next_state]) - Q[state, action])\n",
    "        state = next_state\n",
    "\n",
    "print(\"\\nLearned Policy:\")\n",
    "for i in range(state_space):\n",
    "    if i == goal_state:\n",
    "        print(\" G \", end=\"\\t\")\n",
    "    else:\n",
    "        best_action = np.argmax(Q[i])\n",
    "        print(f\" {actions[best_action]} \", end=\"\\t\")\n",
    "    if (i + 1) % grid_size == 0:\n",
    "        print()"
   ]
  }
 ],
 "metadata": {
  "kernelspec": {
   "display_name": "Python 3",
   "language": "python",
   "name": "python3"
  },
  "language_info": {
   "codemirror_mode": {
    "name": "ipython",
    "version": 3
   },
   "file_extension": ".py",
   "mimetype": "text/x-python",
   "name": "python",
   "nbconvert_exporter": "python",
   "pygments_lexer": "ipython3",
   "version": "3.12.3"
  }
 },
 "nbformat": 4,
 "nbformat_minor": 5
}
