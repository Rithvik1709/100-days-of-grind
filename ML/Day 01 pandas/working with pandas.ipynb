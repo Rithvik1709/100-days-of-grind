{
 "cells": [
  {
   "cell_type": "code",
   "execution_count": null,
   "metadata": {},
   "outputs": [],
   "source": [
    "%pip install kagglehub"
   ]
  },
  {
   "cell_type": "code",
   "execution_count": null,
   "metadata": {},
   "outputs": [],
   "source": [
    "%pip install pandas"
   ]
  },
  {
   "cell_type": "code",
   "execution_count": 8,
   "metadata": {},
   "outputs": [],
   "source": [
    "import pandas as pd\n",
    "df = pd.read_csv('social_media_usage.csv')"
   ]
  },
  {
   "cell_type": "code",
   "execution_count": 41,
   "metadata": {},
   "outputs": [
    {
     "name": "stdout",
     "output_type": "stream",
     "text": [
      "head values are\n",
      "  user_id        app  daily_minutes_spent  posts_per_day  likes_per_day  \\\n",
      "0     U_1  Pinterest                  288             16             94   \n",
      "1     U_2   Facebook                  192             14            117   \n",
      "2     U_3  Instagram                  351             13            120   \n",
      "3     U_4     TikTok                   21             20            117   \n",
      "4     U_5   LinkedIn                  241             16              9   \n",
      "\n",
      "   follows_per_day  \n",
      "0                0  \n",
      "1               15  \n",
      "2               48  \n",
      "3                8  \n",
      "4               21  \n",
      "tail values are\n",
      "    user_id        app  daily_minutes_spent  posts_per_day  likes_per_day  \\\n",
      "995   U_996   LinkedIn                  479              4             72   \n",
      "996   U_997  Instagram                  499             14            110   \n",
      "997   U_998   Facebook                  318              6            105   \n",
      "998   U_999     TikTok                  305             15            151   \n",
      "999  U_1000  Pinterest                  115             17             81   \n",
      "\n",
      "     follows_per_day  \n",
      "995               15  \n",
      "996               49  \n",
      "997                9  \n",
      "998                6  \n",
      "999               39  \n",
      "Index(['user_id', 'app', 'daily_minutes_spent', 'posts_per_day',\n",
      "       'likes_per_day', 'follows_per_day'],\n",
      "      dtype='object')\n"
     ]
    }
   ],
   "source": [
    "# View the first 5 rows\n",
    "print('head values are')\n",
    "print(df.head())\n",
    "# View the last 5 rows\n",
    "\n",
    "print('tail values are')\n",
    "print(df.tail())\n",
    "# Check for column names\n",
    "print(df.columns)\n"
   ]
  },
  {
   "cell_type": "code",
   "execution_count": 24,
   "metadata": {},
   "outputs": [
    {
     "name": "stdout",
     "output_type": "stream",
     "text": [
      "posts per days is 10.269 \n"
     ]
    }
   ],
   "source": [
    "# Calculate the average time spent on social media platforms.\n",
    "if 'Posts_Per_Day' in df.columns:\n",
    "    posts = df['Posts_Per_Day'].mean()\n",
    "    print(f\"posts per days is {posts} \")\n"
   ]
  },
  {
   "cell_type": "code",
   "execution_count": 26,
   "metadata": {},
   "outputs": [
    {
     "name": "stdout",
     "output_type": "stream",
     "text": [
      "avg daily minutes spent is 295\n"
     ]
    }
   ],
   "source": [
    "# Find the most commonly used platform:\n",
    "if 'Daily_Minutes_Spent' in df.columns:\n",
    "    time_spent = df['Daily_Minutes_Spent'].value_counts().idxmax()\n",
    "    print(f\"avg daily minutes spent is {time_spent}\")\n"
   ]
  },
  {
   "cell_type": "markdown",
   "metadata": {},
   "source": [
    "# Data cleaning\n",
    "this step is where we clean the files data and choose only what we require"
   ]
  },
  {
   "cell_type": "code",
   "execution_count": 21,
   "metadata": {},
   "outputs": [
    {
     "name": "stdout",
     "output_type": "stream",
     "text": [
      "Index(['User_ID', 'App', 'Daily_Minutes_Spent', 'Posts_Per_Day',\n",
      "       'Likes_Per_Day', 'Follows_Per_Day'],\n",
      "      dtype='object')\n"
     ]
    }
   ],
   "source": [
    "print(df.columns)\n"
   ]
  },
  {
   "cell_type": "code",
   "execution_count": 27,
   "metadata": {},
   "outputs": [
    {
     "name": "stdout",
     "output_type": "stream",
     "text": [
      "    User_ID        App  Daily_Minutes_Spent  Posts_Per_Day  Likes_Per_Day  \\\n",
      "0       U_1  Pinterest                  288             16             94   \n",
      "1       U_2   Facebook                  192             14            117   \n",
      "2       U_3  Instagram                  351             13            120   \n",
      "4       U_5   LinkedIn                  241             16              9   \n",
      "5       U_6    Twitter                  464              3            137   \n",
      "..      ...        ...                  ...            ...            ...   \n",
      "994   U_995    Twitter                  464              2            149   \n",
      "995   U_996   LinkedIn                  479              4             72   \n",
      "996   U_997  Instagram                  499             14            110   \n",
      "997   U_998   Facebook                  318              6            105   \n",
      "998   U_999     TikTok                  305             15            151   \n",
      "\n",
      "     Follows_Per_Day  \n",
      "0                  0  \n",
      "1                 15  \n",
      "2                 48  \n",
      "4                 21  \n",
      "5                 30  \n",
      "..               ...  \n",
      "994               43  \n",
      "995               15  \n",
      "996               49  \n",
      "997                9  \n",
      "998                6  \n",
      "\n",
      "[628 rows x 6 columns]\n"
     ]
    }
   ],
   "source": [
    "heavy_users = df[df['Daily_Minutes_Spent'] > 180]\n",
    "print(heavy_users)"
   ]
  },
  {
   "cell_type": "code",
   "execution_count": 28,
   "metadata": {},
   "outputs": [
    {
     "name": "stdout",
     "output_type": "stream",
     "text": [
      "Index(['user_id', 'app', 'daily_minutes_spent', 'posts_per_day',\n",
      "       'likes_per_day', 'follows_per_day'],\n",
      "      dtype='object')\n"
     ]
    }
   ],
   "source": [
    "df.columns = df.columns.str.lower().str.replace(' ', '_')\n",
    "print(df.columns)  # Confirm the changes\n"
   ]
  },
  {
   "cell_type": "code",
   "execution_count": 30,
   "metadata": {},
   "outputs": [
    {
     "name": "stdout",
     "output_type": "stream",
     "text": [
      "The most used app is: Snapchat\n"
     ]
    }
   ],
   "source": [
    "#compares and finds the most used application\n",
    "if 'app' in df.columns:\n",
    "    most_used = df['app'].value_counts().idxmax()\n",
    "    print(f\"The most used app is: {most_used}\")\n"
   ]
  }
 ],
 "metadata": {
  "kernelspec": {
   "display_name": "Python 3",
   "language": "python",
   "name": "python3"
  },
  "language_info": {
   "codemirror_mode": {
    "name": "ipython",
    "version": 3
   },
   "file_extension": ".py",
   "mimetype": "text/x-python",
   "name": "python",
   "nbconvert_exporter": "python",
   "pygments_lexer": "ipython3",
   "version": "3.12.3"
  }
 },
 "nbformat": 4,
 "nbformat_minor": 2
}
